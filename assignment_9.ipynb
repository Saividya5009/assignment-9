{
  "nbformat": 4,
  "nbformat_minor": 0,
  "metadata": {
    "colab": {
      "name": "assignment 9.ipynb",
      "provenance": [],
      "authorship_tag": "ABX9TyNtjoz5et11XbD5t5mA+4fx",
      "include_colab_link": true
    },
    "kernelspec": {
      "name": "python3",
      "display_name": "Python 3"
    }
  },
  "cells": [
    {
      "cell_type": "markdown",
      "metadata": {
        "id": "view-in-github",
        "colab_type": "text"
      },
      "source": [
        "<a href=\"https://colab.research.google.com/github/Saividya5009/assignment-9/blob/master/assignment_9.ipynb\" target=\"_parent\"><img src=\"https://colab.research.google.com/assets/colab-badge.svg\" alt=\"Open In Colab\"/></a>"
      ]
    },
    {
      "cell_type": "markdown",
      "metadata": {
        "id": "q7HmWJt-W9LS",
        "colab_type": "text"
      },
      "source": [
        "1.\tWrite a Python program to get the largest & smallest number from a list."
      ]
    },
    {
      "cell_type": "code",
      "metadata": {
        "id": "wc8gT35IXGM1",
        "colab_type": "code",
        "colab": {
          "base_uri": "https://localhost:8080/",
          "height": 34
        },
        "outputId": "ba2d10dc-ada2-4395-8d74-ef5e52e48a9a"
      },
      "source": [
        "list=[1,4,5,7,8,4,5,8,9]\n",
        "max(list)"
      ],
      "execution_count": null,
      "outputs": [
        {
          "output_type": "execute_result",
          "data": {
            "text/plain": [
              "9"
            ]
          },
          "metadata": {
            "tags": []
          },
          "execution_count": 4
        }
      ]
    },
    {
      "cell_type": "code",
      "metadata": {
        "id": "yFgqZm9SXcY6",
        "colab_type": "code",
        "colab": {
          "base_uri": "https://localhost:8080/",
          "height": 34
        },
        "outputId": "65f6bc60-3b50-4c75-c097-a428470ae678"
      },
      "source": [
        "list=[1,4,5,7,8,4,5,8,9]\n",
        "min(list)"
      ],
      "execution_count": null,
      "outputs": [
        {
          "output_type": "execute_result",
          "data": {
            "text/plain": [
              "1"
            ]
          },
          "metadata": {
            "tags": []
          },
          "execution_count": 5
        }
      ]
    },
    {
      "cell_type": "markdown",
      "metadata": {
        "id": "BuvJr6SFXivv",
        "colab_type": "text"
      },
      "source": [
        "2.\tWrite a Python program to remove duplicates from a list."
      ]
    },
    {
      "cell_type": "code",
      "metadata": {
        "id": "sFWa7WKTXqHs",
        "colab_type": "code",
        "colab": {
          "base_uri": "https://localhost:8080/",
          "height": 34
        },
        "outputId": "0fda2bbc-ae7c-4e76-f1eb-e46ec374c447"
      },
      "source": [
        "list=[1,2,3,4,5,2,3,1,5,6,7,8,7,6]\n",
        "duplicate_list=[ ]\n",
        "for n in list:\n",
        "  if n not in duplicate_list:\n",
        "    duplicate_list.append(n)\n",
        "print(duplicate_list)"
      ],
      "execution_count": null,
      "outputs": [
        {
          "output_type": "stream",
          "text": [
            "[1, 2, 3, 4, 5, 6, 7, 8]\n"
          ],
          "name": "stdout"
        }
      ]
    },
    {
      "cell_type": "markdown",
      "metadata": {
        "id": "UCBVLE8EaYIt",
        "colab_type": "text"
      },
      "source": [
        "3.\tWrite a Python program to check a list is empty or not."
      ]
    },
    {
      "cell_type": "code",
      "metadata": {
        "id": "jpIhp4Ftac2U",
        "colab_type": "code",
        "colab": {
          "base_uri": "https://localhost:8080/",
          "height": 34
        },
        "outputId": "bf1b612a-6b13-43bf-fa83-4b3efff5128f"
      },
      "source": [
        "l=[ ]\n",
        "if len(l)==0:\n",
        "  print(\"list is empty\")\n",
        "else:\n",
        "  print(\"list is not empty\")"
      ],
      "execution_count": null,
      "outputs": [
        {
          "output_type": "stream",
          "text": [
            "list is empty\n"
          ],
          "name": "stdout"
        }
      ]
    },
    {
      "cell_type": "markdown",
      "metadata": {
        "id": "GRjisDswbWBR",
        "colab_type": "text"
      },
      "source": [
        "4.\tWrite a Python program to clone or copy a list. "
      ]
    },
    {
      "cell_type": "code",
      "metadata": {
        "id": "sDbeTYqbbbr_",
        "colab_type": "code",
        "colab": {
          "base_uri": "https://localhost:8080/",
          "height": 34
        },
        "outputId": "ce453373-2c23-4f88-e358-c097bacb8e0d"
      },
      "source": [
        "list=[1,4,5,7,8,4,5,8,9]\n",
        "list=list1\n",
        "print(list1)\n"
      ],
      "execution_count": null,
      "outputs": [
        {
          "output_type": "stream",
          "text": [
            "[1, 2, 3, 4, 5, 2, 3, 1, 5, 6, 7, 8, 7, 6]\n"
          ],
          "name": "stdout"
        }
      ]
    },
    {
      "cell_type": "markdown",
      "metadata": {
        "id": "SpPwx_LbctRk",
        "colab_type": "text"
      },
      "source": [
        "5.\tWrite a Python program to print a specified list after removing the 0th, 4th and 5th elements."
      ]
    },
    {
      "cell_type": "code",
      "metadata": {
        "id": "NmxtXnnnc3bl",
        "colab_type": "code",
        "colab": {
          "base_uri": "https://localhost:8080/",
          "height": 34
        },
        "outputId": "0388b386-d07f-4d08-e52e-be8e327198d1"
      },
      "source": [
        "list=[1,3,4,5,6,7]\n",
        "list=[x for (i,x) in enumerate(list) if i not in (0,4,5)]\n",
        "print(list)"
      ],
      "execution_count": null,
      "outputs": [
        {
          "output_type": "stream",
          "text": [
            "[3, 4, 5]\n"
          ],
          "name": "stdout"
        }
      ]
    },
    {
      "cell_type": "markdown",
      "metadata": {
        "id": "vfB8PrSEjf9T",
        "colab_type": "text"
      },
      "source": [
        "6.\tWrite a Python program to print the numbers of a specified list after removing even numbers from it."
      ]
    },
    {
      "cell_type": "code",
      "metadata": {
        "id": "1G1OlOy8jniZ",
        "colab_type": "code",
        "colab": {
          "base_uri": "https://localhost:8080/",
          "height": 34
        },
        "outputId": "613ea7c9-5a4c-4393-f30d-458618b1cdd3"
      },
      "source": [
        "list=[4,5,7,8,7,32,5,4,87,65,44]\n",
        "for i in list:\n",
        "  if i%2==0:\n",
        "    list.remove(i)\n",
        "print(list)"
      ],
      "execution_count": null,
      "outputs": [
        {
          "output_type": "stream",
          "text": [
            "[5, 7, 7, 5, 87, 65]\n"
          ],
          "name": "stdout"
        }
      ]
    },
    {
      "cell_type": "markdown",
      "metadata": {
        "id": "kOc7kvWMkiai",
        "colab_type": "text"
      },
      "source": [
        "7.\tWrite a Python program to shuffle and print a specified list."
      ]
    },
    {
      "cell_type": "code",
      "metadata": {
        "id": "ZdWUG4PPkoJZ",
        "colab_type": "code",
        "colab": {
          "base_uri": "https://localhost:8080/",
          "height": 34
        },
        "outputId": "89fddb32-aff1-4ad0-f5bc-265c040510dc"
      },
      "source": [
        "import random\n",
        "list=[1,3,4,6,7,4,8]\n",
        "random.shuffle(list)\n",
        "print(list)"
      ],
      "execution_count": null,
      "outputs": [
        {
          "output_type": "stream",
          "text": [
            "[1, 4, 4, 7, 8, 3, 6]\n"
          ],
          "name": "stdout"
        }
      ]
    },
    {
      "cell_type": "markdown",
      "metadata": {
        "id": "DOLH1CnmlO1U",
        "colab_type": "text"
      },
      "source": [
        "8.\tWrite a Python program to get the difference between the two lists."
      ]
    },
    {
      "cell_type": "code",
      "metadata": {
        "id": "gnl5dxz3lTUU",
        "colab_type": "code",
        "colab": {
          "base_uri": "https://localhost:8080/",
          "height": 34
        },
        "outputId": "7b683fd1-26a1-4804-8e61-2d804d3cd729"
      },
      "source": [
        "list1=[10,34,5,63,78,5,3]\n",
        "list2=[1,4,5,6,8,4,2]\n",
        "list3=[]\n",
        "for i in list1:\n",
        "  if i not in list2:\n",
        "    list3.append(i)\n",
        "print(list3)"
      ],
      "execution_count": 3,
      "outputs": [
        {
          "output_type": "stream",
          "text": [
            "[10, 34, 63, 78, 3]\n"
          ],
          "name": "stdout"
        }
      ]
    }
  ]
}